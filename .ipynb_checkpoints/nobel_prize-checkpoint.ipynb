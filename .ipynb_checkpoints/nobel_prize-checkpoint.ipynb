{
 "cells": [
  {
   "cell_type": "code",
   "execution_count": 4,
   "metadata": {
    "pycharm": {
     "name": "#%%\n"
    }
   },
   "outputs": [],
   "source": [
    "import requests as requests\n",
    "from pymongo import MongoClient\n",
    "\n",
    "client = MongoClient()\n",
    "# Creating the Nobel prizes database (which previously does not exists)\n",
    "db = client[\"nobel_prizes\"]"
   ]
  },
  {
   "cell_type": "code",
   "execution_count": 2,
   "metadata": {
    "pycharm": {
     "name": "#%%\n"
    }
   },
   "outputs": [],
   "source": [
    "for collection_name in [\"prizes\", \"laureates\"]:\n",
    "    response = requests.get(\"https://api.nobelprize.org/v1/{}.json\".format(collection_name[:-1]))\n",
    "    documents = response.json()[collection_name]\n",
    "    db[collection_name].insert_many(documents)"
   ]
  },
  {
   "cell_type": "markdown",
   "metadata": {
    "pycharm": {
     "name": "#%% md\n"
    }
   },
   "source": [
    "Number of laureates who were born in any of the North American countries (\"USA\", \"Canada\", \"Mexico\")"
   ]
  },
  {
   "cell_type": "code",
   "execution_count": 26,
   "metadata": {
    "pycharm": {
     "name": "#%%\n"
    }
   },
   "outputs": [
    {
     "name": "stdout",
     "output_type": "stream",
     "text": [
      "310\n"
     ]
    }
   ],
   "source": [
    "countries = [\"USA\", \"Canada\", \"Mexico\"]\n",
    "filter={ 'bornCountry': { '$in': countries } }\n",
    "result = client['nobel_prizes']['laureates'].count_documents(filter=filter)\n",
    "print(result)"
   ]
  },
  {
   "cell_type": "markdown",
   "metadata": {
    "pycharm": {
     "name": "#%% md\n"
    }
   },
   "source": [
    "Find the number of distinct countries recorded as part of an affiliation for laureate's prizes. [HINT: Use the dot notation to select the fields]\n"
   ]
  },
  {
   "cell_type": "code",
   "execution_count": 6,
   "metadata": {},
   "outputs": [
    {
     "name": "stdout",
     "output_type": "stream",
     "text": [
      "Number of distinct recorded affiliated countries:  29\n"
     ]
    }
   ],
   "source": [
    "count = len(client['nobel_prizes']['laureates'].distinct('prizes.affiliations.country'))\n",
    "print('Number of distinct recorded affiliated countries: ', count)"
   ]
  },
  {
   "cell_type": "markdown",
   "metadata": {
    "pycharm": {
     "name": "#%% md\n"
    }
   },
   "source": [
    "How many laureates have a first name starting with \"G\" and surname starting with \"S\""
   ]
  },
  {
   "cell_type": "code",
   "execution_count": 28,
   "metadata": {
    "pycharm": {
     "name": "#%%\n"
    }
   },
   "outputs": [
    {
     "name": "stdout",
     "output_type": "stream",
     "text": [
      "10\n"
     ]
    }
   ],
   "source": [
    "query = {\n",
    "          '$and' : [\n",
    "               {\"firstname\": {'$regex' : '^G'}},\n",
    "                {\"surname\": {'$regex' : '^S'}}\n",
    "                   ]\n",
    "         }\n",
    "\n",
    "result = client['nobel_prizes']['laureates'].count_documents(filter=query)\n",
    "print(result)\n"
   ]
  },
  {
   "cell_type": "markdown",
   "metadata": {
    "pycharm": {
     "name": "#%% md\n"
    }
   },
   "source": [
    "Aggregation Pipeline"
   ]
  },
  {
   "cell_type": "code",
   "execution_count": 29,
   "metadata": {
    "pycharm": {
     "name": "#%%\n"
    }
   },
   "outputs": [
    {
     "name": "stdout",
     "output_type": "stream",
     "text": [
      "[{'firstname': 'Center for Civil Liberties', 'prizes': [{'year': '2022'}]}, {'firstname': 'Memorial', 'prizes': [{'year': '2022'}]}, {'firstname': 'World Food Programme', 'prizes': [{'year': '2020'}]}]\n"
     ]
    }
   ],
   "source": [
    "\n",
    "cursor = (db.laureates.find (projection={\"firstname\": 1, \"prizes.year\": 1, \"_id\": 0}, filter={\"gender\": \"org\"}).limit(3).sort(\"prizes.year\", -1))\n",
    "\n",
    "match_stage = {\"$match\": {\"gender\": \"org\"}}\n",
    "project_stage = {\"$project\": {\"firstname\": 1, \"prizes.year\": 1, \"_id\": 0}}\n",
    "limit_stage = {\"$limit\": 3}\n",
    "sort_stage = {\"$sort\": {\"prizes.year\": -1}}\n",
    "\n",
    "aggregate = db.laureates.aggregate([match_stage, project_stage, sort_stage,limit_stage])\n",
    "print(list(aggregate))\n"
   ]
  }
 ],
 "metadata": {
  "kernelspec": {
   "display_name": "Python 3 (ipykernel)",
   "language": "python",
   "name": "python3"
  },
  "language_info": {
   "codemirror_mode": {
    "name": "ipython",
    "version": 3
   },
   "file_extension": ".py",
   "mimetype": "text/x-python",
   "name": "python",
   "nbconvert_exporter": "python",
   "pygments_lexer": "ipython3",
   "version": "3.8.7"
  }
 },
 "nbformat": 4,
 "nbformat_minor": 1
}
