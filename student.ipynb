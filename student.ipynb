{
 "cells": [
  {
   "cell_type": "code",
   "execution_count": 1,
   "metadata": {
    "collapsed": true,
    "pycharm": {
     "name": "#%%\n"
    }
   },
   "outputs": [],
   "source": [
    "from pymongo import MongoClient\n",
    "import json\n"
   ]
  },
  {
   "cell_type": "code",
   "execution_count": 14,
   "outputs": [],
   "source": [
    "data = open(\"./datasets/students.json\")\n",
    "students_json = json.load(data)\n",
    "data.close()\n"
   ],
   "metadata": {
    "collapsed": false,
    "pycharm": {
     "name": "#%%\n"
    }
   }
  },
  {
   "cell_type": "code",
   "execution_count": 17,
   "outputs": [
    {
     "ename": "BulkWriteError",
     "evalue": "batch op errors occurred, full error: {'writeErrors': [{'index': 0, 'code': 11000, 'errmsg': 'E11000 duplicate key error collection: assessment.students index: _id_ dup key: { _id: 0 }', 'keyPattern': {'_id': 1}, 'keyValue': {'_id': 0}, 'op': {'_id': 0, 'name': 'aimee Zank', 'scores': [{'score': 1.463179736705023, 'type': 'exam'}, {'score': 11.78273309957772, 'type': 'quiz'}, {'score': 35.8740349954354, 'type': 'homework'}]}}], 'writeConcernErrors': [], 'nInserted': 0, 'nUpserted': 0, 'nMatched': 0, 'nModified': 0, 'nRemoved': 0, 'upserted': []}",
     "output_type": "error",
     "traceback": [
      "\u001B[1;31m---------------------------------------------------------------------------\u001B[0m",
      "\u001B[1;31mBulkWriteError\u001B[0m                            Traceback (most recent call last)",
      "Cell \u001B[1;32mIn[17], line 9\u001B[0m\n\u001B[0;32m      6\u001B[0m db \u001B[38;5;241m=\u001B[39m client[\u001B[38;5;124m\"\u001B[39m\u001B[38;5;124massessment\u001B[39m\u001B[38;5;124m\"\u001B[39m]\n\u001B[0;32m      7\u001B[0m Collection(Database(MongoClient(host\u001B[38;5;241m=\u001B[39m[\u001B[38;5;124m'\u001B[39m\u001B[38;5;124mlocalhost:27017\u001B[39m\u001B[38;5;124m'\u001B[39m], document_class\u001B[38;5;241m=\u001B[39m\u001B[38;5;28mdict\u001B[39m, tz_aware\u001B[38;5;241m=\u001B[39m\u001B[38;5;28;01mFalse\u001B[39;00m, connect\u001B[38;5;241m=\u001B[39m\u001B[38;5;28;01mTrue\u001B[39;00m), \u001B[38;5;124m'\u001B[39m\u001B[38;5;124massessment\u001B[39m\u001B[38;5;124m'\u001B[39m), \u001B[38;5;124m'\u001B[39m\u001B[38;5;124mstudents\u001B[39m\u001B[38;5;124m'\u001B[39m)\n\u001B[1;32m----> 9\u001B[0m \u001B[43mdb\u001B[49m\u001B[43m[\u001B[49m\u001B[38;5;124;43m'\u001B[39;49m\u001B[38;5;124;43mstudents\u001B[39;49m\u001B[38;5;124;43m'\u001B[39;49m\u001B[43m]\u001B[49m\u001B[38;5;241;43m.\u001B[39;49m\u001B[43minsert_many\u001B[49m\u001B[43m(\u001B[49m\u001B[43mstudents_json\u001B[49m\u001B[43m)\u001B[49m\n\u001B[0;32m     10\u001B[0m db_names \u001B[38;5;241m=\u001B[39m client\u001B[38;5;241m.\u001B[39mlist_database_names()\n\u001B[0;32m     11\u001B[0m \u001B[38;5;28mprint\u001B[39m(db_names)\n",
      "File \u001B[1;32mc:\\spring 2023\\data engr\\assignments\\database-handling\\venv\\lib\\site-packages\\pymongo\\_csot.py:105\u001B[0m, in \u001B[0;36mapply.<locals>.csot_wrapper\u001B[1;34m(self, *args, **kwargs)\u001B[0m\n\u001B[0;32m    103\u001B[0m         \u001B[38;5;28;01mwith\u001B[39;00m _TimeoutContext(timeout):\n\u001B[0;32m    104\u001B[0m             \u001B[38;5;28;01mreturn\u001B[39;00m func(\u001B[38;5;28mself\u001B[39m, \u001B[38;5;241m*\u001B[39margs, \u001B[38;5;241m*\u001B[39m\u001B[38;5;241m*\u001B[39mkwargs)\n\u001B[1;32m--> 105\u001B[0m \u001B[38;5;28;01mreturn\u001B[39;00m \u001B[43mfunc\u001B[49m\u001B[43m(\u001B[49m\u001B[38;5;28;43mself\u001B[39;49m\u001B[43m,\u001B[49m\u001B[43m \u001B[49m\u001B[38;5;241;43m*\u001B[39;49m\u001B[43margs\u001B[49m\u001B[43m,\u001B[49m\u001B[43m \u001B[49m\u001B[38;5;241;43m*\u001B[39;49m\u001B[38;5;241;43m*\u001B[39;49m\u001B[43mkwargs\u001B[49m\u001B[43m)\u001B[49m\n",
      "File \u001B[1;32mc:\\spring 2023\\data engr\\assignments\\database-handling\\venv\\lib\\site-packages\\pymongo\\collection.py:714\u001B[0m, in \u001B[0;36mCollection.insert_many\u001B[1;34m(self, documents, ordered, bypass_document_validation, session, comment)\u001B[0m\n\u001B[0;32m    712\u001B[0m blk \u001B[38;5;241m=\u001B[39m _Bulk(\u001B[38;5;28mself\u001B[39m, ordered, bypass_document_validation, comment\u001B[38;5;241m=\u001B[39mcomment)\n\u001B[0;32m    713\u001B[0m blk\u001B[38;5;241m.\u001B[39mops \u001B[38;5;241m=\u001B[39m [doc \u001B[38;5;28;01mfor\u001B[39;00m doc \u001B[38;5;129;01min\u001B[39;00m gen()]\n\u001B[1;32m--> 714\u001B[0m \u001B[43mblk\u001B[49m\u001B[38;5;241;43m.\u001B[39;49m\u001B[43mexecute\u001B[49m\u001B[43m(\u001B[49m\u001B[43mwrite_concern\u001B[49m\u001B[43m,\u001B[49m\u001B[43m \u001B[49m\u001B[43msession\u001B[49m\u001B[38;5;241;43m=\u001B[39;49m\u001B[43msession\u001B[49m\u001B[43m)\u001B[49m\n\u001B[0;32m    715\u001B[0m \u001B[38;5;28;01mreturn\u001B[39;00m InsertManyResult(inserted_ids, write_concern\u001B[38;5;241m.\u001B[39macknowledged)\n",
      "File \u001B[1;32mc:\\spring 2023\\data engr\\assignments\\database-handling\\venv\\lib\\site-packages\\pymongo\\bulk.py:513\u001B[0m, in \u001B[0;36m_Bulk.execute\u001B[1;34m(self, write_concern, session)\u001B[0m\n\u001B[0;32m    511\u001B[0m         \u001B[38;5;28mself\u001B[39m\u001B[38;5;241m.\u001B[39mexecute_no_results(sock_info, generator, write_concern)\n\u001B[0;32m    512\u001B[0m \u001B[38;5;28;01melse\u001B[39;00m:\n\u001B[1;32m--> 513\u001B[0m     \u001B[38;5;28;01mreturn\u001B[39;00m \u001B[38;5;28;43mself\u001B[39;49m\u001B[38;5;241;43m.\u001B[39;49m\u001B[43mexecute_command\u001B[49m\u001B[43m(\u001B[49m\u001B[43mgenerator\u001B[49m\u001B[43m,\u001B[49m\u001B[43m \u001B[49m\u001B[43mwrite_concern\u001B[49m\u001B[43m,\u001B[49m\u001B[43m \u001B[49m\u001B[43msession\u001B[49m\u001B[43m)\u001B[49m\n",
      "File \u001B[1;32mc:\\spring 2023\\data engr\\assignments\\database-handling\\venv\\lib\\site-packages\\pymongo\\bulk.py:394\u001B[0m, in \u001B[0;36m_Bulk.execute_command\u001B[1;34m(self, generator, write_concern, session)\u001B[0m\n\u001B[0;32m    391\u001B[0m     client\u001B[38;5;241m.\u001B[39m_retry_with_session(\u001B[38;5;28mself\u001B[39m\u001B[38;5;241m.\u001B[39mis_retryable, retryable_bulk, s, \u001B[38;5;28mself\u001B[39m)\n\u001B[0;32m    393\u001B[0m \u001B[38;5;28;01mif\u001B[39;00m full_result[\u001B[38;5;124m\"\u001B[39m\u001B[38;5;124mwriteErrors\u001B[39m\u001B[38;5;124m\"\u001B[39m] \u001B[38;5;129;01mor\u001B[39;00m full_result[\u001B[38;5;124m\"\u001B[39m\u001B[38;5;124mwriteConcernErrors\u001B[39m\u001B[38;5;124m\"\u001B[39m]:\n\u001B[1;32m--> 394\u001B[0m     \u001B[43m_raise_bulk_write_error\u001B[49m\u001B[43m(\u001B[49m\u001B[43mfull_result\u001B[49m\u001B[43m)\u001B[49m\n\u001B[0;32m    395\u001B[0m \u001B[38;5;28;01mreturn\u001B[39;00m full_result\n",
      "File \u001B[1;32mc:\\spring 2023\\data engr\\assignments\\database-handling\\venv\\lib\\site-packages\\pymongo\\bulk.py:136\u001B[0m, in \u001B[0;36m_raise_bulk_write_error\u001B[1;34m(full_result)\u001B[0m\n\u001B[0;32m    134\u001B[0m \u001B[38;5;28;01mif\u001B[39;00m full_result[\u001B[38;5;124m\"\u001B[39m\u001B[38;5;124mwriteErrors\u001B[39m\u001B[38;5;124m\"\u001B[39m]:\n\u001B[0;32m    135\u001B[0m     full_result[\u001B[38;5;124m\"\u001B[39m\u001B[38;5;124mwriteErrors\u001B[39m\u001B[38;5;124m\"\u001B[39m]\u001B[38;5;241m.\u001B[39msort(key\u001B[38;5;241m=\u001B[39m\u001B[38;5;28;01mlambda\u001B[39;00m error: error[\u001B[38;5;124m\"\u001B[39m\u001B[38;5;124mindex\u001B[39m\u001B[38;5;124m\"\u001B[39m])\n\u001B[1;32m--> 136\u001B[0m \u001B[38;5;28;01mraise\u001B[39;00m BulkWriteError(full_result)\n",
      "\u001B[1;31mBulkWriteError\u001B[0m: batch op errors occurred, full error: {'writeErrors': [{'index': 0, 'code': 11000, 'errmsg': 'E11000 duplicate key error collection: assessment.students index: _id_ dup key: { _id: 0 }', 'keyPattern': {'_id': 1}, 'keyValue': {'_id': 0}, 'op': {'_id': 0, 'name': 'aimee Zank', 'scores': [{'score': 1.463179736705023, 'type': 'exam'}, {'score': 11.78273309957772, 'type': 'quiz'}, {'score': 35.8740349954354, 'type': 'homework'}]}}], 'writeConcernErrors': [], 'nInserted': 0, 'nUpserted': 0, 'nMatched': 0, 'nModified': 0, 'nRemoved': 0, 'upserted': []}"
     ]
    }
   ],
   "source": [
    "from pymongo.database import Database\n",
    "from pymongo.collection import Collection\n",
    "\n",
    "client = MongoClient()\n",
    "# Creating the assessment database\n",
    "db = client[\"assessment\"]\n",
    "Collection(Database(MongoClient(host=['localhost:27017'], document_class=dict, tz_aware=False, connect=True), 'assessment'), 'students')\n",
    "\n",
    "db['students'].insert_many(students_json)\n",
    "db_names = client.list_database_names()\n",
    "print(db_names)"
   ],
   "metadata": {
    "collapsed": false,
    "pycharm": {
     "name": "#%%\n"
    }
   }
  },
  {
   "cell_type": "code",
   "execution_count": null,
   "outputs": [],
   "source": [],
   "metadata": {
    "collapsed": false,
    "pycharm": {
     "name": "#%%\n"
    }
   }
  }
 ],
 "metadata": {
  "kernelspec": {
   "display_name": "Python 3",
   "language": "python",
   "name": "python3"
  },
  "language_info": {
   "codemirror_mode": {
    "name": "ipython",
    "version": 2
   },
   "file_extension": ".py",
   "mimetype": "text/x-python",
   "name": "python",
   "nbconvert_exporter": "python",
   "pygments_lexer": "ipython2",
   "version": "2.7.6"
  }
 },
 "nbformat": 4,
 "nbformat_minor": 0
}