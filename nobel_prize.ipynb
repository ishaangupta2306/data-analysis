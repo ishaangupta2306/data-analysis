{
 "cells": [
  {
   "cell_type": "code",
   "execution_count": 1,
   "metadata": {
    "collapsed": true,
    "pycharm": {
     "name": "#%%\n"
    }
   },
   "outputs": [],
   "source": [
    "import requests as requests\n",
    "from pymongo import MongoClient\n",
    "\n",
    "client = MongoClient()\n",
    "# Creating the Nobel prizes database (which previously does not exists)\n",
    "db = client[\"nobel_prizes\"]"
   ]
  },
  {
   "cell_type": "code",
   "execution_count": 2,
   "outputs": [],
   "source": [
    "for collection_name in [\"prizes\", \"laureates\"]:\n",
    "    response = requests.get(\"https://api.nobelprize.org/v1/{}.json\".format(collection_name[:-1]))\n",
    "    documents = response.json()[collection_name]\n",
    "    db[collection_name].insert_many(documents)"
   ],
   "metadata": {
    "collapsed": false,
    "pycharm": {
     "name": "#%%\n"
    }
   }
  },
  {
   "cell_type": "markdown",
   "source": [
    "Number of laureates who were born in any of the North American countries (\"USA\", \"Canada\", \"Mexico\")"
   ],
   "metadata": {
    "collapsed": false,
    "pycharm": {
     "name": "#%% md\n"
    }
   }
  },
  {
   "cell_type": "code",
   "execution_count": 26,
   "outputs": [
    {
     "name": "stdout",
     "output_type": "stream",
     "text": [
      "310\n"
     ]
    }
   ],
   "source": [
    "countries = [\"USA\", \"Canada\", \"Mexico\"]\n",
    "filter={ 'bornCountry': { '$in': countries } }\n",
    "result = client['nobel_prizes']['laureates'].count_documents(filter=filter)\n",
    "print(result)"
   ],
   "metadata": {
    "collapsed": false,
    "pycharm": {
     "name": "#%%\n"
    }
   }
  },
  {
   "cell_type": "markdown",
   "source": [
    "Find the number of distinct countries recorded as part of an affiliation for laureate's prizes. [HINT: Use the dot notation to select the fields]\n"
   ],
   "metadata": {
    "collapsed": false,
    "pycharm": {
     "name": "#%% md\n"
    }
   }
  },
  {
   "cell_type": "markdown",
   "source": [
    "How many laureates have a first name starting with \"G\" and surname starting with \"S\""
   ],
   "metadata": {
    "collapsed": false,
    "pycharm": {
     "name": "#%% md\n"
    }
   }
  },
  {
   "cell_type": "code",
   "execution_count": 28,
   "outputs": [
    {
     "name": "stdout",
     "output_type": "stream",
     "text": [
      "10\n"
     ]
    }
   ],
   "source": [
    "query = {\n",
    "          '$and' : [\n",
    "               {\"firstname\": {'$regex' : '^G'}},\n",
    "                {\"surname\": {'$regex' : '^S'}}\n",
    "                   ]\n",
    "         }\n",
    "\n",
    "result = client['nobel_prizes']['laureates'].count_documents(filter=query)\n",
    "print(result)\n"
   ],
   "metadata": {
    "collapsed": false,
    "pycharm": {
     "name": "#%%\n"
    }
   }
  }
 ],
 "metadata": {
  "kernelspec": {
   "display_name": "Python 3",
   "language": "python",
   "name": "python3"
  },
  "language_info": {
   "codemirror_mode": {
    "name": "ipython",
    "version": 2
   },
   "file_extension": ".py",
   "mimetype": "text/x-python",
   "name": "python",
   "nbconvert_exporter": "python",
   "pygments_lexer": "ipython2",
   "version": "2.7.6"
  }
 },
 "nbformat": 4,
 "nbformat_minor": 0
}